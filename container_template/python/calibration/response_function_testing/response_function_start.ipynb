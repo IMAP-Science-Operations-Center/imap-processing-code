{
 "cells": [
  {
   "cell_type": "code",
   "execution_count": null,
   "outputs": [],
   "source": [
    "import numpy as np\n",
    "import matplotlib.pyplot as plt\n",
    "import response_function_tools_22_Feb"
   ],
   "metadata": {
    "collapsed": false,
    "pycharm": {
     "name": "#%%\n"
    }
   }
  },
  {
   "cell_type": "code",
   "execution_count": null,
   "outputs": [],
   "source": [
    "file_path ='/Users/mawa7160/dev/data/LIBERA/Calibration/22_Oct/libera_raw_detector_1024_1227.nc'\n",
    "libera_step_dataset = response_function_tools_22_Feb.create_detector_dataset_from_file(file_path)\n",
    "\n",
    "file_path ='/Users/mawa7160/dev/data/LIBERA/Calibration/22_Oct/libera_raw_detector_1103_1028.nc'\n",
    "libera_prf_dataset_1 = response_function_tools_22_Feb.create_detector_dataset_from_file(file_path)\n",
    "\n",
    "file_path ='/Users/mawa7160/dev/data/LIBERA/Calibration/22_Oct/libera_raw_detector_1103_1035.nc'\n",
    "libera_prf_dataset_2 = response_function_tools_22_Feb.create_detector_dataset_from_file(file_path)\n",
    "\n",
    "plt.plot(libera_step_dataset.power_uw[0], label='Original power cycle')\n",
    "plt.plot(libera_step_dataset.power_uw_sm[0], label=\"Smoothed power cycle\")\n",
    "plt.legend()"
   ],
   "metadata": {
    "collapsed": false,
    "pycharm": {
     "name": "#%%\n"
    }
   }
  },
  {
   "cell_type": "code",
   "execution_count": null,
   "outputs": [],
   "source": [
    "freqs = np.arange(0.1, 500, 0.01)\n",
    "avg_tf_smooth, avg_tf_raw = response_function_tools_22_Feb.generate_response_function_from_netcdf_file('/Users/mawa7160/dev/data/LIBERA/Calibration/22_Oct/libera_raw_detector_1024_1227.nc', freqs)\n",
    "ceres_response = response_function_tools_22_Feb.libera_get_ceres_frequency_response(freqs)\n",
    "\n",
    "plt.semilogx(freqs, np.abs(avg_tf_raw), label=\"Raw Libera Response\")\n",
    "plt.semilogx(freqs, np.abs(avg_tf_smooth), label=\"Smoothed Libera Response\")\n",
    "plt.semilogx(freqs, np.abs(ceres_response), label=\"Ceres Response\")\n",
    "plt.legend()\n",
    "plt.xlabel(\"Frequency (Hz)\")\n",
    "plt.ylabel(\"Magnitude\")"
   ],
   "metadata": {
    "collapsed": false,
    "pycharm": {
     "name": "#%%\n"
    }
   }
  },
  {
   "cell_type": "code",
   "execution_count": null,
   "outputs": [],
   "source": [
    "blackman_factor = np.abs(avg_tf_smooth)/np.abs(avg_tf_raw)\n",
    "blackman_to_ceres_factor = np.abs(ceres_response)/np.abs(avg_tf_smooth)\n",
    "\n",
    "plt.semilogx(freqs, np.abs(avg_tf_raw*blackman_factor*blackman_to_ceres_factor))"
   ],
   "metadata": {
    "collapsed": false,
    "pycharm": {
     "name": "#%%\n"
    }
   }
  },
  {
   "cell_type": "code",
   "execution_count": null,
   "outputs": [],
   "source": [],
   "metadata": {
    "collapsed": false,
    "pycharm": {
     "name": "#%%\n"
    }
   }
  }
 ],
 "metadata": {
  "kernelspec": {
   "display_name": "Python 3",
   "language": "python",
   "name": "python3"
  },
  "language_info": {
   "codemirror_mode": {
    "name": "ipython",
    "version": 2
   },
   "file_extension": ".py",
   "mimetype": "text/x-python",
   "name": "python",
   "nbconvert_exporter": "python",
   "pygments_lexer": "ipython2",
   "version": "2.7.6"
  }
 },
 "nbformat": 4,
 "nbformat_minor": 0
}