{
 "cells": [
  {
   "cell_type": "code",
   "execution_count": null,
   "outputs": [],
   "source": [
    "import numpy as np\n",
    "import matplotlib.pyplot as plt\n",
    "import response_function_tools_22_Feb\n",
    "from scipy.fft import rfft, fftfreq, irfft"
   ],
   "metadata": {
    "collapsed": false,
    "pycharm": {
     "name": "#%%\n"
    }
   }
  },
  {
   "cell_type": "code",
   "execution_count": null,
   "outputs": [],
   "source": [
    "# Create the transfer functions at 1 kHz (out to 500 Hz positive)\n",
    "freqs = np.arange(1, 500, 1)\n",
    "avg_tf_smooth, avg_tf_raw = response_function_tools_22_Feb.generate_response_function_from_netcdf_file('/Users/mawa7160/dev/data/LIBERA/Calibration/22_Oct/libera_raw_detector_1024_1227.nc', freqs)\n",
    "ceres_response = response_function_tools_22_Feb.libera_get_ceres_frequency_response(freqs)\n",
    "\n",
    "on_orbit_factor = np.abs(avg_tf_smooth)/np.abs(avg_tf_raw)\n",
    "ceres_factor = np.abs(ceres_response)/np.abs(avg_tf_smooth)"
   ],
   "metadata": {
    "collapsed": false,
    "pycharm": {
     "name": "#%%\n"
    }
   }
  },
  {
   "cell_type": "code",
   "execution_count": null,
   "outputs": [],
   "source": [
    "# Generate a point spread function\n",
    "# Sampled at 1 kHz for 1 second with a 20.8 millisecond high (at 1 kHz will be 21 ms\n",
    "# Using estimated milliwatt estimates from detector data low is 312 mW and high is 318 mW\n",
    "point_spread_function = np.ones(1000)*312\n",
    "point_spread_function[488:509] = point_spread_function[488:509]+6\n",
    "time = np.arange(0,1, 0.001)\n",
    "plt.plot(time,point_spread_function)"
   ],
   "metadata": {
    "collapsed": false,
    "pycharm": {
     "name": "#%%\n"
    }
   }
  },
  {
   "cell_type": "code",
   "execution_count": null,
   "outputs": [],
   "source": [
    "# On orbit smoothing done via fft\n",
    "full_freq = fftfreq(1000, 1 / 1000)\n",
    "pos_index = np.where(full_freq>0)\n",
    "pos_freq = full_freq[pos_index]\n",
    "\n",
    "signal_fft = rfft(point_spread_function)\n",
    "#plt.plot(pos_freq, np.abs(signal_fft[pos_index]))\n",
    "trimmed = signal_fft[pos_index]\n",
    "smoothed = trimmed*on_orbit_factor\n",
    "front_added = np.insert(smoothed, 0, signal_fft[0])\n",
    "full = np.append(front_added, signal_fft[-1])\n",
    "smoothed_signal_ifft = irfft(full)\n",
    "plt.plot(smoothed_signal_ifft)\n",
    "print(smoothed_signal_ifft.max())"
   ],
   "metadata": {
    "collapsed": false,
    "pycharm": {
     "name": "#%%\n"
    }
   }
  },
  {
   "cell_type": "code",
   "execution_count": null,
   "outputs": [],
   "source": [
    "#Using from above\n",
    "smoothed_data = smoothed_signal_ifft\n",
    "\n",
    "# Test 1\n",
    "# Direct conversion to CERES at 1 kHz rate\n",
    "# On orbit smoothing done via fft\n",
    "full_freq = fftfreq(1000, 1 / 1000)\n",
    "pos_index = np.where(full_freq>0)\n",
    "pos_freq = full_freq[pos_index]\n",
    "\n",
    "signal_fft = rfft(smoothed_data)\n",
    "#plt.plot(pos_freq, np.abs(signal_fft[pos_index]))\n",
    "trimmed = signal_fft[pos_index]\n",
    "smoothed = trimmed*ceres_factor\n",
    "front_added = np.insert(smoothed, 0, signal_fft[0])\n",
    "full = np.append(front_added, signal_fft[-1])\n",
    "processed_ceres_matched_signal_ifft = irfft(full)\n",
    "plt.plot(processed_ceres_matched_signal_ifft)"
   ],
   "metadata": {
    "collapsed": false,
    "pycharm": {
     "name": "#%%\n"
    }
   }
  },
  {
   "cell_type": "code",
   "execution_count": null,
   "outputs": [],
   "source": [
    "# Create smoothing factors at 200 Hz (out to 100 Hz positive)\n",
    "freqs_100hz = np.arange(1, 100, 1)\n",
    "avg_tf_smooth_100hz, avg_tf_raw_100hz = response_function_tools_22_Feb.generate_response_function_from_netcdf_file('/Users/mawa7160/dev/data/LIBERA/Calibration/22_Oct/libera_raw_detector_1024_1227.nc', freqs_100hz)\n",
    "ceres_response_100hz = response_function_tools_22_Feb.libera_get_ceres_frequency_response(freqs_100hz)\n",
    "\n",
    "on_orbit_factor_100hz = np.abs(avg_tf_smooth_100hz)/np.abs(avg_tf_raw_100hz)\n",
    "ceres_factor_100hz = np.abs(ceres_response_100hz)/np.abs(avg_tf_smooth_100hz)\n",
    "plt.semilogx(freqs_100hz, np.abs(ceres_response_100hz), '-xg')\n",
    "plt.semilogx(freqs_100hz, np.abs(avg_tf_smooth_100hz),'-xb')"
   ],
   "metadata": {
    "collapsed": false,
    "pycharm": {
     "name": "#%%\n"
    }
   }
  },
  {
   "cell_type": "code",
   "execution_count": null,
   "outputs": [],
   "source": [
    "# Test 2 Downsampling to 200 Hz\n",
    "smoothed_downsampled_data = smoothed_signal_ifft[0:-1:5]\n",
    "downsampled_time = time[0:-1:5]\n",
    "#print(smoothed_downsampled_data.max())\n",
    "#plt.plot(downsampled_time, smoothed_downsampled_data)\n",
    "full_freq = fftfreq(200, 1 / 200)\n",
    "pos_index = np.where(full_freq>0)\n",
    "pos_freq = full_freq[pos_index]\n",
    "\n",
    "signal_fft = rfft(smoothed_downsampled_data)\n",
    "#plt.plot(pos_freq, np.abs(signal_fft[pos_index]))\n",
    "trimmed = signal_fft[pos_index]\n",
    "smoothed = trimmed*ceres_factor_100hz\n",
    "front_added = np.insert(smoothed, 0, signal_fft[0])\n",
    "full = np.append(front_added, signal_fft[-1])\n",
    "processed_ceres_matched_signal_ifft_200hz = irfft(full)\n",
    "plt.plot(processed_ceres_matched_signal_ifft_200hz)\n",
    "print(processed_ceres_matched_signal_ifft_200hz.max())"
   ],
   "metadata": {
    "collapsed": false,
    "pycharm": {
     "name": "#%%\n"
    }
   }
  },
  {
   "cell_type": "code",
   "execution_count": null,
   "outputs": [],
   "source": [
    "# Test 3 Downsampling to 200 Hz before smoothing\n",
    "downsampled_data = point_spread_function[0:-1:5]\n",
    "downsampled_time = time[0:-1:5]\n",
    "#plt.plot(downsampled_time, downsampled_data)\n",
    "full_freq = fftfreq(200, 1 / 200)\n",
    "pos_index = np.where(full_freq>0)\n",
    "pos_freq = full_freq[pos_index]\n",
    "\n",
    "signal_fft = rfft(downsampled_data)\n",
    "#plt.plot(pos_freq, np.abs(signal_fft[pos_index]))\n",
    "trimmed = signal_fft[pos_index]\n",
    "smoothed = trimmed*ceres_factor_100hz*on_orbit_factor_100hz\n",
    "front_added = np.insert(smoothed, 0, signal_fft[0])\n",
    "full = np.append(front_added, signal_fft[-1])\n",
    "processed_ceres_matched_signal_ifft_200hz = irfft(full)\n",
    "plt.plot(processed_ceres_matched_signal_ifft_200hz)\n",
    "print(processed_ceres_matched_signal_ifft_200hz.max())"
   ],
   "metadata": {
    "collapsed": false,
    "pycharm": {
     "name": "#%%\n"
    }
   }
  },
  {
   "cell_type": "code",
   "execution_count": null,
   "outputs": [],
   "source": [],
   "metadata": {
    "collapsed": false,
    "pycharm": {
     "name": "#%%\n"
    }
   }
  }
 ],
 "metadata": {
  "kernelspec": {
   "display_name": "Python 3",
   "language": "python",
   "name": "python3"
  },
  "language_info": {
   "codemirror_mode": {
    "name": "ipython",
    "version": 2
   },
   "file_extension": ".py",
   "mimetype": "text/x-python",
   "name": "python",
   "nbconvert_exporter": "python",
   "pygments_lexer": "ipython2",
   "version": "2.7.6"
  }
 },
 "nbformat": 4,
 "nbformat_minor": 0
}